{
 "cells": [
  {
   "cell_type": "code",
   "execution_count": 3,
   "id": "b44448e4-7d5d-443b-bec8-5b9937361aa6",
   "metadata": {},
   "outputs": [
    {
     "name": "stdout",
     "output_type": "stream",
     "text": [
      "Requirement already satisfied: pyodbc in c:\\users\\compuser\\anaconda3\\lib\\site-packages (5.0.1)\n",
      "Requirement already satisfied: pandas in c:\\users\\compuser\\anaconda3\\lib\\site-packages (2.1.4)\n",
      "Requirement already satisfied: numpy<2,>=1.23.2 in c:\\users\\compuser\\anaconda3\\lib\\site-packages (from pandas) (1.26.4)\n",
      "Requirement already satisfied: python-dateutil>=2.8.2 in c:\\users\\compuser\\anaconda3\\lib\\site-packages (from pandas) (2.8.2)\n",
      "Requirement already satisfied: pytz>=2020.1 in c:\\users\\compuser\\anaconda3\\lib\\site-packages (from pandas) (2023.3.post1)\n",
      "Requirement already satisfied: tzdata>=2022.1 in c:\\users\\compuser\\anaconda3\\lib\\site-packages (from pandas) (2023.3)\n",
      "Requirement already satisfied: six>=1.5 in c:\\users\\compuser\\anaconda3\\lib\\site-packages (from python-dateutil>=2.8.2->pandas) (1.16.0)\n",
      "Note: you may need to restart the kernel to use updated packages.\n"
     ]
    }
   ],
   "source": [
    "pip install pyodbc pandas"
   ]
  },
  {
   "cell_type": "code",
   "execution_count": 4,
   "id": "af312451-8bb3-490e-885f-05d30d35c7d5",
   "metadata": {},
   "outputs": [
    {
     "name": "stdout",
     "output_type": "stream",
     "text": [
      "   CustomerID  TotalPurchaseAmount\n",
      "0       14646            279489.02\n",
      "1       18102            256438.49\n",
      "2       17450            187482.17\n",
      "3       14911            132572.62\n",
      "4       12415            123725.45\n",
      "5       14156            113384.14\n",
      "6       17511             88125.38\n",
      "7       16684             65892.08\n",
      "8       13694             62653.10\n",
      "9       15311             59419.34\n"
     ]
    },
    {
     "name": "stderr",
     "output_type": "stream",
     "text": [
      "C:\\Users\\CompUser\\AppData\\Local\\Temp\\ipykernel_13464\\2972363501.py:37: UserWarning: pandas only supports SQLAlchemy connectable (engine/connection) or database string URI or sqlite3 DBAPI2 connection. Other DBAPI2 objects are not tested. Please consider using SQLAlchemy.\n",
      "  df = pd.read_sql(query, connection)\n"
     ]
    }
   ],
   "source": [
    "import pyodbc\n",
    "import pandas as pd\n",
    "\n",
    "# Step 1: Define SQL Server connection parameters\n",
    "server = 'MESSAYD\\MSSQLSERVER01'          # Replace with your server name\n",
    "database = 'TigitWBG'      # Replace with your database name\n",
    "\n",
    "# Step 2: Create the connection string using Windows Authentication\n",
    "connection_string = (\n",
    "    \"DRIVER={ODBC Driver 17 for SQL Server};\"\n",
    "    f\"SERVER={server};\"\n",
    "    f\"DATABASE={database};\"\n",
    "    \"Trusted_Connection=yes;\"\n",
    ")\n",
    "\n",
    "# Step 3: Establish the connection\n",
    "connection = pyodbc.connect(connection_string)\n",
    "\n",
    "# Step 4: Define the SQL query to find the top 10 customers by total purchase amount\n",
    "query = \"\"\"\n",
    "SELECT \n",
    "    CustomerID,\n",
    "    SUM(Quantity * UnitPrice) AS TotalPurchaseAmount\n",
    "FROM \n",
    "    OnlineRetail\n",
    "WHERE \n",
    "    CustomerID IS NOT NULL  -- Ensures we exclude any null CustomerID values\n",
    "GROUP BY \n",
    "    CustomerID\n",
    "ORDER BY \n",
    "    TotalPurchaseAmount DESC\n",
    "OFFSET 0 ROWS \n",
    "FETCH NEXT 10 ROWS ONLY;  -- Fetches the top 10 customers\n",
    "\"\"\"\n",
    "\n",
    "# Step 5: Execute the query and fetch the results into a pandas DataFrame\n",
    "df = pd.read_sql(query, connection)\n",
    "\n",
    "# Step 6: Close the connection\n",
    "connection.close()\n",
    "\n",
    "# Step 7: Display the results\n",
    "print(df)\n"
   ]
  },
  {
   "cell_type": "code",
   "execution_count": null,
   "id": "d7052dcd-ffa5-4f01-916c-5b71f7d097da",
   "metadata": {},
   "outputs": [],
   "source": []
  }
 ],
 "metadata": {
  "kernelspec": {
   "display_name": "Python 3 (ipykernel)",
   "language": "python",
   "name": "python3"
  },
  "language_info": {
   "codemirror_mode": {
    "name": "ipython",
    "version": 3
   },
   "file_extension": ".py",
   "mimetype": "text/x-python",
   "name": "python",
   "nbconvert_exporter": "python",
   "pygments_lexer": "ipython3",
   "version": "3.11.7"
  }
 },
 "nbformat": 4,
 "nbformat_minor": 5
}
