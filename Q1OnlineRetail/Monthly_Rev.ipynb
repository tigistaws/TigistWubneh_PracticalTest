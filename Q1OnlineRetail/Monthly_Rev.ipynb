{
 "cells": [
  {
   "cell_type": "code",
   "execution_count": 1,
   "id": "f2e50c0f-54bc-42d4-9eef-ddf1b323cc38",
   "metadata": {},
   "outputs": [
    {
     "name": "stdout",
     "output_type": "stream",
     "text": [
      "Requirement already satisfied: pyodbc in c:\\users\\compuser\\anaconda3\\lib\\site-packages (5.0.1)\n",
      "Requirement already satisfied: pandas in c:\\users\\compuser\\anaconda3\\lib\\site-packages (2.1.4)\n",
      "Requirement already satisfied: numpy<2,>=1.23.2 in c:\\users\\compuser\\anaconda3\\lib\\site-packages (from pandas) (1.26.4)\n",
      "Requirement already satisfied: python-dateutil>=2.8.2 in c:\\users\\compuser\\anaconda3\\lib\\site-packages (from pandas) (2.8.2)\n",
      "Requirement already satisfied: pytz>=2020.1 in c:\\users\\compuser\\anaconda3\\lib\\site-packages (from pandas) (2023.3.post1)\n",
      "Requirement already satisfied: tzdata>=2022.1 in c:\\users\\compuser\\anaconda3\\lib\\site-packages (from pandas) (2023.3)\n",
      "Requirement already satisfied: six>=1.5 in c:\\users\\compuser\\anaconda3\\lib\\site-packages (from python-dateutil>=2.8.2->pandas) (1.16.0)\n",
      "Note: you may need to restart the kernel to use updated packages.\n"
     ]
    }
   ],
   "source": [
    "pip install pyodbc pandas"
   ]
  },
  {
   "cell_type": "code",
   "execution_count": 2,
   "id": "be3e71e9-b080-49d6-b5b6-ef5a41890846",
   "metadata": {},
   "outputs": [
    {
     "name": "stderr",
     "output_type": "stream",
     "text": [
      "C:\\Users\\CompUser\\AppData\\Local\\Temp\\ipykernel_16912\\309455427.py:36: UserWarning: pandas only supports SQLAlchemy connectable (engine/connection) or database string URI or sqlite3 DBAPI2 connection. Other DBAPI2 objects are not tested. Please consider using SQLAlchemy.\n",
      "  df = pd.read_sql(query, connection)\n"
     ]
    },
    {
     "name": "stdout",
     "output_type": "stream",
     "text": [
      "Monthly Revenue for the Dataset's Time Range:\n",
      "   YearMonth  MonthlyRevenue\n",
      "0    2010-12      554604.020\n",
      "1    2011-01      475074.380\n",
      "2    2011-02      436546.150\n",
      "3    2011-03      579964.610\n",
      "4    2011-04      426047.851\n",
      "5    2011-05      648251.080\n",
      "6    2011-06      608013.160\n",
      "7    2011-07      574238.481\n",
      "8    2011-08      616368.000\n",
      "9    2011-09      931440.372\n",
      "10   2011-10      974603.590\n",
      "11   2011-11     1132407.740\n",
      "12   2011-12      342506.380\n"
     ]
    }
   ],
   "source": [
    "import pyodbc\n",
    "import pandas as pd\n",
    "\n",
    "# Step 1: Define SQL Server connection parameters\n",
    "server = 'MESSAYD\\MSSQLSERVER01'          # Replace with your server name\n",
    "database = 'TigitWBG'      # Replace with your database name\n",
    "\n",
    "# Step 2: Create the connection string using Windows Authentication\n",
    "connection_string = (\n",
    "    \"DRIVER={ODBC Driver 17 for SQL Server};\"\n",
    "    f\"SERVER={server};\"\n",
    "    f\"DATABASE={database};\"\n",
    "    \"Trusted_Connection=yes;\"\n",
    ")\n",
    "\n",
    "try:\n",
    "    # Step 3: Establish the connection\n",
    "    connection = pyodbc.connect(connection_string)\n",
    "\n",
    "    # Step 4: Define the SQL query to calculate monthly revenue for the entire time range of the dataset\n",
    "    query = \"\"\"\n",
    "    SELECT \n",
    "        FORMAT(InvoiceDate, 'yyyy-MM') AS YearMonth,  -- Formats the InvoiceDate as Year-Month\n",
    "        SUM(Quantity * UnitPrice) AS MonthlyRevenue   -- Calculates total revenue for each month\n",
    "    FROM \n",
    "        OnlineRetail\n",
    "    WHERE \n",
    "        CustomerID IS NOT NULL  -- Exclude any null CustomerID values to ensure valid transactions\n",
    "    GROUP BY \n",
    "        FORMAT(InvoiceDate, 'yyyy-MM')  -- Group by formatted Year-Month\n",
    "    ORDER BY \n",
    "        YearMonth;  -- Order the results by Year-Month\n",
    "    \"\"\"\n",
    "\n",
    "    # Step 5: Execute the query and fetch the results into a pandas DataFrame\n",
    "    df = pd.read_sql(query, connection)\n",
    "\n",
    "    # Step 6: Display the results\n",
    "    print(\"Monthly Revenue for the Dataset's Time Range:\")\n",
    "    print(df)\n",
    "\n",
    "except Exception as e:\n",
    "    print(\"An error occurred while connecting to the database or executing the query:\", e)\n",
    "\n",
    "finally:\n",
    "    # Step 7: Close the connection\n",
    "    if 'connection' in locals():\n",
    "        connection.close()\n"
   ]
  },
  {
   "cell_type": "code",
   "execution_count": null,
   "id": "a4b0490c-fbe5-4b13-9306-3ca9e61d0ffd",
   "metadata": {},
   "outputs": [],
   "source": []
  }
 ],
 "metadata": {
  "kernelspec": {
   "display_name": "Python 3 (ipykernel)",
   "language": "python",
   "name": "python3"
  },
  "language_info": {
   "codemirror_mode": {
    "name": "ipython",
    "version": 3
   },
   "file_extension": ".py",
   "mimetype": "text/x-python",
   "name": "python",
   "nbconvert_exporter": "python",
   "pygments_lexer": "ipython3",
   "version": "3.11.7"
  }
 },
 "nbformat": 4,
 "nbformat_minor": 5
}
