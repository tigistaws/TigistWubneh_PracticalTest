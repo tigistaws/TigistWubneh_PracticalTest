{
 "cells": [
  {
   "cell_type": "code",
   "execution_count": 1,
   "id": "1a151084-3162-4471-94dc-880e7542b3d3",
   "metadata": {},
   "outputs": [
    {
     "name": "stdout",
     "output_type": "stream",
     "text": [
      "+--------------------+------------------+\n",
      "|         Description|        TotalSales|\n",
      "+--------------------+------------------+\n",
      "|      DOTCOM POSTAGE|206245.47999999998|\n",
      "|REGENCY CAKESTAND...|         164762.19|\n",
      "|WHITE HANGING HEA...| 99668.47000000013|\n",
      "|       PARTY BUNTING| 98302.97999999992|\n",
      "|JUMBO BAG RED RET...| 92356.02999999985|\n",
      "|  RABBIT NIGHT LIGHT| 66756.58999999988|\n",
      "|             POSTAGE| 66230.63999999998|\n",
      "|PAPER CHAIN KIT 5...| 63791.94000000008|\n",
      "|ASSORTED COLOUR B...|58959.730000000156|\n",
      "|       CHILLI LIGHTS|          53768.06|\n",
      "+--------------------+------------------+\n",
      "\n"
     ]
    }
   ],
   "source": [
    "from pyspark.sql import SparkSession\n",
    "from pyspark.sql.functions import col, sum\n",
    "\n",
    "# Initialize SparkSession\n",
    "spark = SparkSession.builder \\\n",
    "    .appName(\"Top Products by Sales\") \\\n",
    "    .getOrCreate()\n",
    "\n",
    "# Load data\n",
    "file_path = r\"C:\\Users\\CompUser\\OneDrive\\Documents\\TigsitPracticaltest\\ecommerce\\data.csv\"\n",
    "data = spark.read.csv(file_path, header=True, inferSchema=True)\n",
    "\n",
    "# Clean and preprocess data\n",
    "data = data.withColumn(\"InvoiceDate\", col(\"InvoiceDate\").cast(\"timestamp\"))\n",
    "data = data.withColumn(\"Quantity\", col(\"Quantity\").cast(\"integer\"))\n",
    "data = data.withColumn(\"UnitPrice\", col(\"UnitPrice\").cast(\"double\"))\n",
    "\n",
    "# Calculate total sales by product\n",
    "data = data.withColumn(\"TotalSales\", col(\"Quantity\") * col(\"UnitPrice\"))\n",
    "product_sales = data.groupBy(\"Description\").agg(sum(\"TotalSales\").alias(\"TotalSales\"))\n",
    "\n",
    "# Get top 10 products by sales\n",
    "top_products = product_sales.orderBy(col(\"TotalSales\").desc()).limit(10)\n",
    "\n",
    "# Show results\n",
    "top_products.show()\n",
    "\n",
    "# Stop SparkSession\n",
    "spark.stop()\n"
   ]
  },
  {
   "cell_type": "code",
   "execution_count": null,
   "id": "affc908c-d411-4740-910f-8e2d014e4db1",
   "metadata": {},
   "outputs": [],
   "source": []
  }
 ],
 "metadata": {
  "kernelspec": {
   "display_name": "Python 3 (ipykernel)",
   "language": "python",
   "name": "python3"
  },
  "language_info": {
   "codemirror_mode": {
    "name": "ipython",
    "version": 3
   },
   "file_extension": ".py",
   "mimetype": "text/x-python",
   "name": "python",
   "nbconvert_exporter": "python",
   "pygments_lexer": "ipython3",
   "version": "3.11.7"
  }
 },
 "nbformat": 4,
 "nbformat_minor": 5
}
