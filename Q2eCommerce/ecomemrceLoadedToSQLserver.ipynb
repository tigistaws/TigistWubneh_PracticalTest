{
 "cells": [
  {
   "cell_type": "code",
   "execution_count": 15,
   "id": "1c8d7dbe-08fd-4b3d-8287-de436dcdd6e3",
   "metadata": {},
   "outputs": [
    {
     "name": "stdout",
     "output_type": "stream",
     "text": [
      "Connected to SQL Server successfully.\n"
     ]
    }
   ],
   "source": [
    "import pyodbc\n",
    "\n",
    "# Connection parameters\n",
    "server = 'MESSAYD\\\\MSSQLSERVER01'\n",
    "database = 'TigitWBG'\n",
    "\n",
    "# Connection string for Windows Authentication\n",
    "connection_string = (\n",
    "    f\"DRIVER={{ODBC Driver 17 for SQL Server}};\"\n",
    "    f\"SERVER={server};\"\n",
    "    f\"DATABASE={database};\"\n",
    "    f\"Trusted_Connection=yes;\"\n",
    ")\n",
    "\n",
    "try:\n",
    "    # Establish the connection\n",
    "    conn = pyodbc.connect(connection_string)\n",
    "    print(\"Connected to SQL Server successfully.\")\n",
    "\n",
    "    # Create a cursor from the connection\n",
    "    cursor = conn.cursor()\n",
    "\n",
    "    # Your SQL query or operations here\n",
    "    # Example: cursor.execute(\"SELECT * FROM YourTable\")\n",
    "\n",
    "except pyodbc.Error as e:\n",
    "    print(\"Error connecting to SQL Server:\", e)\n",
    "finally:\n",
    "    # Close the connection if it was successful\n",
    "    if 'conn' in locals() and conn:\n",
    "        conn.close()"
   ]
  },
  {
   "cell_type": "code",
   "execution_count": null,
   "id": "8a345b53-30ec-43ff-b3ab-e719f3f4d9e8",
   "metadata": {},
   "outputs": [],
   "source": [
    "# JDBC URL for SQL Server\n",
    "jdbc_url = \"jdbc:sqlserver://MESSAYD\\\\MSSQLSERVER01;databaseName=TigitWBG;integratedSecurity=true;\"\n",
    "\n",
    "# JDBC properties (no user and password needed for Windows Authentication)\n",
    "properties = {\n",
    "    \"driver\": \"com.microsoft.sqlserver.jdbc.SQLServerDriver\"\n",
    "}\n",
    "\n",
    "try:\n",
    "    # Read from SQL Server\n",
    "    df = spark.read.jdbc(url=jdbc_url, table=\"YourTable\", properties=properties)\n",
    "    print(\"Data read from SQL Server successfully.\")\n",
    "    \n",
    "    # Perform operations on the DataFrame if needed\n",
    "    # Example: df.show()\n",
    "\n",
    "    # Write to SQL Server\n",
    "    df.write.jdbc(url=jdbc_url, table=\"YourOutputTable\", mode=\"overwrite\", properties=properties)\n",
    "    print(\"Data written to SQL Server successfully.\")\n",
    "\n",
    "except Exception as e:\n",
    "    print(\"Error reading or writing to SQL Server using PySpark:\", e)\n",
    "finally:\n",
    "    # Stop the Spark session\n",
    "    spark.stop()"
   ]
  },
  {
   "cell_type": "code",
   "execution_count": null,
   "id": "5ca50cd9-f993-4739-8c92-5f8e234a59e2",
   "metadata": {},
   "outputs": [],
   "source": []
  }
 ],
 "metadata": {
  "kernelspec": {
   "display_name": "Python 3 (ipykernel)",
   "language": "python",
   "name": "python3"
  },
  "language_info": {
   "codemirror_mode": {
    "name": "ipython",
    "version": 3
   },
   "file_extension": ".py",
   "mimetype": "text/x-python",
   "name": "python",
   "nbconvert_exporter": "python",
   "pygments_lexer": "ipython3",
   "version": "3.11.7"
  }
 },
 "nbformat": 4,
 "nbformat_minor": 5
}
